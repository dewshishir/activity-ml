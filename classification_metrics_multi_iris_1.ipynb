{
  "metadata": {
    "kernelspec": {
      "language": "python",
      "display_name": "Python 3",
      "name": "python3"
    },
    "language_info": {
      "name": "python",
      "version": "3.11.11",
      "mimetype": "text/x-python",
      "codemirror_mode": {
        "name": "ipython",
        "version": 3
      },
      "pygments_lexer": "ipython3",
      "nbconvert_exporter": "python",
      "file_extension": ".py"
    },
    "kaggle": {
      "accelerator": "none",
      "dataSources": [
        {
          "sourceId": 420,
          "sourceType": "datasetVersion",
          "datasetId": 19
        }
      ],
      "dockerImageVersionId": 31012,
      "isInternetEnabled": true,
      "language": "python",
      "sourceType": "notebook",
      "isGpuEnabled": false
    },
    "colab": {
      "name": "classification-metrics-multi-iris-1",
      "provenance": [],
      "include_colab_link": true
    }
  },
  "nbformat_minor": 0,
  "nbformat": 4,
  "cells": [
    {
      "cell_type": "markdown",
      "metadata": {
        "id": "view-in-github",
        "colab_type": "text"
      },
      "source": [
        "<a href=\"https://colab.research.google.com/github/dewshishir/activity-ml/blob/main/classification_metrics_multi_iris_1.ipynb\" target=\"_parent\"><img src=\"https://colab.research.google.com/assets/colab-badge.svg\" alt=\"Open In Colab\"/></a>"
      ]
    },
    {
      "source": [
        "# IMPORTANT: RUN THIS CELL IN ORDER TO IMPORT YOUR KAGGLE DATA SOURCES,\n",
        "# THEN FEEL FREE TO DELETE THIS CELL.\n",
        "# NOTE: THIS NOTEBOOK ENVIRONMENT DIFFERS FROM KAGGLE'S PYTHON\n",
        "# ENVIRONMENT SO THERE MAY BE MISSING LIBRARIES USED BY YOUR\n",
        "# NOTEBOOK.\n",
        "import kagglehub\n",
        "organizations_uciml_iris_path = kagglehub.dataset_download('organizations/uciml/iris')\n",
        "\n",
        "print('Data source import complete.')\n"
      ],
      "metadata": {
        "id": "9JGWZiNz4C6H"
      },
      "cell_type": "code",
      "outputs": [],
      "execution_count": null
    },
    {
      "cell_type": "code",
      "source": [
        "# This Python 3 environment comes with many helpful analytics libraries installed\n",
        "# It is defined by the kaggle/python Docker image: https://github.com/kaggle/docker-python\n",
        "# For example, here's several helpful packages to load\n",
        "\n",
        "import numpy as np # linear algebra\n",
        "import pandas as pd # data processing, CSV file I/O (e.g. pd.read_csv)\n",
        "\n",
        "# Input data files are available in the read-only \"../input/\" directory\n",
        "# For example, running this (by clicking run or pressing Shift+Enter) will list all files under the input directory\n",
        "\n",
        "import os\n",
        "for dirname, _, filenames in os.walk('/kaggle/input'):\n",
        "    for filename in filenames:\n",
        "        print(os.path.join(dirname, filename))\n",
        "\n",
        "# You can write up to 20GB to the current directory (/kaggle/working/) that gets preserved as output when you create a version using \"Save & Run All\"\n",
        "# You can also write temporary files to /kaggle/temp/, but they won't be saved outside of the current session"
      ],
      "metadata": {
        "_uuid": "8f2839f25d086af736a60e9eeb907d3b93b6e0e5",
        "_cell_guid": "b1076dfc-b9ad-4769-8c92-a6c4dae69d19",
        "execution": {
          "iopub.status.busy": "2025-04-17T12:17:35.849483Z",
          "iopub.execute_input": "2025-04-17T12:17:35.849914Z",
          "iopub.status.idle": "2025-04-17T12:17:35.859224Z",
          "shell.execute_reply.started": "2025-04-17T12:17:35.849883Z",
          "shell.execute_reply": "2025-04-17T12:17:35.858002Z"
        },
        "trusted": true,
        "id": "23ifY1Ot4C6J",
        "outputId": "987ff8aa-6379-4ef0-af77-0001be589224"
      },
      "outputs": [
        {
          "name": "stdout",
          "text": "/kaggle/input/iris/Iris.csv\n/kaggle/input/iris/database.sqlite\n",
          "output_type": "stream"
        }
      ],
      "execution_count": null
    },
    {
      "cell_type": "code",
      "source": [
        "df = pd.read_csv('/kaggle/input/iris/Iris.csv')"
      ],
      "metadata": {
        "execution": {
          "iopub.status.busy": "2025-04-17T12:17:35.861451Z",
          "iopub.execute_input": "2025-04-17T12:17:35.861892Z",
          "iopub.status.idle": "2025-04-17T12:17:35.887146Z",
          "shell.execute_reply.started": "2025-04-17T12:17:35.861854Z",
          "shell.execute_reply": "2025-04-17T12:17:35.885652Z"
        },
        "trusted": true,
        "id": "VxMflKuZ4C6L"
      },
      "outputs": [],
      "execution_count": null
    },
    {
      "cell_type": "code",
      "source": [
        "df.head()"
      ],
      "metadata": {
        "execution": {
          "iopub.status.busy": "2025-04-17T12:17:35.888499Z",
          "iopub.execute_input": "2025-04-17T12:17:35.889607Z",
          "iopub.status.idle": "2025-04-17T12:17:35.940785Z",
          "shell.execute_reply.started": "2025-04-17T12:17:35.889573Z",
          "shell.execute_reply": "2025-04-17T12:17:35.939609Z"
        },
        "trusted": true,
        "id": "hX3dnSZb4C6M",
        "outputId": "4b20a39a-1255-49fc-aa7e-b72530353b1c"
      },
      "outputs": [
        {
          "execution_count": 8,
          "output_type": "execute_result",
          "data": {
            "text/plain": "   Id  SepalLengthCm  SepalWidthCm  PetalLengthCm  PetalWidthCm      Species\n0   1            5.1           3.5            1.4           0.2  Iris-setosa\n1   2            4.9           3.0            1.4           0.2  Iris-setosa\n2   3            4.7           3.2            1.3           0.2  Iris-setosa\n3   4            4.6           3.1            1.5           0.2  Iris-setosa\n4   5            5.0           3.6            1.4           0.2  Iris-setosa",
            "text/html": "<div>\n<style scoped>\n    .dataframe tbody tr th:only-of-type {\n        vertical-align: middle;\n    }\n\n    .dataframe tbody tr th {\n        vertical-align: top;\n    }\n\n    .dataframe thead th {\n        text-align: right;\n    }\n</style>\n<table border=\"1\" class=\"dataframe\">\n  <thead>\n    <tr style=\"text-align: right;\">\n      <th></th>\n      <th>Id</th>\n      <th>SepalLengthCm</th>\n      <th>SepalWidthCm</th>\n      <th>PetalLengthCm</th>\n      <th>PetalWidthCm</th>\n      <th>Species</th>\n    </tr>\n  </thead>\n  <tbody>\n    <tr>\n      <th>0</th>\n      <td>1</td>\n      <td>5.1</td>\n      <td>3.5</td>\n      <td>1.4</td>\n      <td>0.2</td>\n      <td>Iris-setosa</td>\n    </tr>\n    <tr>\n      <th>1</th>\n      <td>2</td>\n      <td>4.9</td>\n      <td>3.0</td>\n      <td>1.4</td>\n      <td>0.2</td>\n      <td>Iris-setosa</td>\n    </tr>\n    <tr>\n      <th>2</th>\n      <td>3</td>\n      <td>4.7</td>\n      <td>3.2</td>\n      <td>1.3</td>\n      <td>0.2</td>\n      <td>Iris-setosa</td>\n    </tr>\n    <tr>\n      <th>3</th>\n      <td>4</td>\n      <td>4.6</td>\n      <td>3.1</td>\n      <td>1.5</td>\n      <td>0.2</td>\n      <td>Iris-setosa</td>\n    </tr>\n    <tr>\n      <th>4</th>\n      <td>5</td>\n      <td>5.0</td>\n      <td>3.6</td>\n      <td>1.4</td>\n      <td>0.2</td>\n      <td>Iris-setosa</td>\n    </tr>\n  </tbody>\n</table>\n</div>"
          },
          "metadata": {}
        }
      ],
      "execution_count": null
    },
    {
      "cell_type": "code",
      "source": [
        "from sklearn.preprocessing import LabelEncoder\n",
        "encoder = LabelEncoder()\n",
        "df['Species'] = encoder.fit_transform(df['Species'])"
      ],
      "metadata": {
        "execution": {
          "iopub.status.busy": "2025-04-17T12:17:35.942889Z",
          "iopub.execute_input": "2025-04-17T12:17:35.943258Z",
          "iopub.status.idle": "2025-04-17T12:17:36.670441Z",
          "shell.execute_reply.started": "2025-04-17T12:17:35.943232Z",
          "shell.execute_reply": "2025-04-17T12:17:36.66903Z"
        },
        "trusted": true,
        "id": "jCmBqhrC4C6N"
      },
      "outputs": [],
      "execution_count": null
    },
    {
      "cell_type": "code",
      "source": [
        "df.head()"
      ],
      "metadata": {
        "execution": {
          "iopub.status.busy": "2025-04-17T12:17:36.671276Z",
          "iopub.execute_input": "2025-04-17T12:17:36.671712Z",
          "iopub.status.idle": "2025-04-17T12:17:36.686184Z",
          "shell.execute_reply.started": "2025-04-17T12:17:36.671689Z",
          "shell.execute_reply": "2025-04-17T12:17:36.685136Z"
        },
        "trusted": true,
        "id": "MGVNEfZx4C6P",
        "outputId": "11c7efab-1d13-422d-9d40-5d3e267aca3f"
      },
      "outputs": [
        {
          "execution_count": 10,
          "output_type": "execute_result",
          "data": {
            "text/plain": "   Id  SepalLengthCm  SepalWidthCm  PetalLengthCm  PetalWidthCm  Species\n0   1            5.1           3.5            1.4           0.2        0\n1   2            4.9           3.0            1.4           0.2        0\n2   3            4.7           3.2            1.3           0.2        0\n3   4            4.6           3.1            1.5           0.2        0\n4   5            5.0           3.6            1.4           0.2        0",
            "text/html": "<div>\n<style scoped>\n    .dataframe tbody tr th:only-of-type {\n        vertical-align: middle;\n    }\n\n    .dataframe tbody tr th {\n        vertical-align: top;\n    }\n\n    .dataframe thead th {\n        text-align: right;\n    }\n</style>\n<table border=\"1\" class=\"dataframe\">\n  <thead>\n    <tr style=\"text-align: right;\">\n      <th></th>\n      <th>Id</th>\n      <th>SepalLengthCm</th>\n      <th>SepalWidthCm</th>\n      <th>PetalLengthCm</th>\n      <th>PetalWidthCm</th>\n      <th>Species</th>\n    </tr>\n  </thead>\n  <tbody>\n    <tr>\n      <th>0</th>\n      <td>1</td>\n      <td>5.1</td>\n      <td>3.5</td>\n      <td>1.4</td>\n      <td>0.2</td>\n      <td>0</td>\n    </tr>\n    <tr>\n      <th>1</th>\n      <td>2</td>\n      <td>4.9</td>\n      <td>3.0</td>\n      <td>1.4</td>\n      <td>0.2</td>\n      <td>0</td>\n    </tr>\n    <tr>\n      <th>2</th>\n      <td>3</td>\n      <td>4.7</td>\n      <td>3.2</td>\n      <td>1.3</td>\n      <td>0.2</td>\n      <td>0</td>\n    </tr>\n    <tr>\n      <th>3</th>\n      <td>4</td>\n      <td>4.6</td>\n      <td>3.1</td>\n      <td>1.5</td>\n      <td>0.2</td>\n      <td>0</td>\n    </tr>\n    <tr>\n      <th>4</th>\n      <td>5</td>\n      <td>5.0</td>\n      <td>3.6</td>\n      <td>1.4</td>\n      <td>0.2</td>\n      <td>0</td>\n    </tr>\n  </tbody>\n</table>\n</div>"
          },
          "metadata": {}
        }
      ],
      "execution_count": null
    },
    {
      "cell_type": "code",
      "source": [
        "from sklearn.model_selection import train_test_split\n",
        "X_train,X_test,y_train,y_test = train_test_split(df.iloc[:,0:-1],df.iloc[:,-1],test_size=0.2,random_state=1)"
      ],
      "metadata": {
        "execution": {
          "iopub.status.busy": "2025-04-17T12:17:36.687401Z",
          "iopub.execute_input": "2025-04-17T12:17:36.687724Z",
          "iopub.status.idle": "2025-04-17T12:17:36.872699Z",
          "shell.execute_reply.started": "2025-04-17T12:17:36.687695Z",
          "shell.execute_reply": "2025-04-17T12:17:36.871687Z"
        },
        "trusted": true,
        "id": "xAd0Yt8F4C6Q"
      },
      "outputs": [],
      "execution_count": null
    },
    {
      "cell_type": "code",
      "source": [
        "from sklearn.linear_model import LogisticRegression\n",
        "from sklearn.tree import DecisionTreeClassifier"
      ],
      "metadata": {
        "execution": {
          "iopub.status.busy": "2025-04-17T12:17:36.87425Z",
          "iopub.execute_input": "2025-04-17T12:17:36.874611Z",
          "iopub.status.idle": "2025-04-17T12:17:37.266301Z",
          "shell.execute_reply.started": "2025-04-17T12:17:36.874582Z",
          "shell.execute_reply": "2025-04-17T12:17:37.265242Z"
        },
        "trusted": true,
        "id": "n4k7GVL-4C6R"
      },
      "outputs": [],
      "execution_count": null
    },
    {
      "cell_type": "code",
      "source": [
        "clf1 = LogisticRegression()\n",
        "clf2 = DecisionTreeClassifier()"
      ],
      "metadata": {
        "execution": {
          "iopub.status.busy": "2025-04-17T12:17:37.267411Z",
          "iopub.execute_input": "2025-04-17T12:17:37.267711Z",
          "iopub.status.idle": "2025-04-17T12:17:37.273563Z",
          "shell.execute_reply.started": "2025-04-17T12:17:37.267687Z",
          "shell.execute_reply": "2025-04-17T12:17:37.272312Z"
        },
        "trusted": true,
        "id": "gOJ_SbYg4C6T"
      },
      "outputs": [],
      "execution_count": null
    },
    {
      "cell_type": "code",
      "source": [
        "clf1.fit(X_train,y_train)\n",
        "clf2.fit(X_train,y_train)"
      ],
      "metadata": {
        "execution": {
          "iopub.status.busy": "2025-04-17T12:17:37.275231Z",
          "iopub.execute_input": "2025-04-17T12:17:37.275623Z",
          "iopub.status.idle": "2025-04-17T12:17:37.377438Z",
          "shell.execute_reply.started": "2025-04-17T12:17:37.275587Z",
          "shell.execute_reply": "2025-04-17T12:17:37.376315Z"
        },
        "trusted": true,
        "id": "vhGim9hM4C6U",
        "outputId": "2e5ce2f0-80e6-4305-8d6c-20a2baa1e926"
      },
      "outputs": [
        {
          "name": "stderr",
          "text": "/usr/local/lib/python3.11/dist-packages/sklearn/linear_model/_logistic.py:458: ConvergenceWarning: lbfgs failed to converge (status=1):\nSTOP: TOTAL NO. OF ITERATIONS REACHED LIMIT.\n\nIncrease the number of iterations (max_iter) or scale the data as shown in:\n    https://scikit-learn.org/stable/modules/preprocessing.html\nPlease also refer to the documentation for alternative solver options:\n    https://scikit-learn.org/stable/modules/linear_model.html#logistic-regression\n  n_iter_i = _check_optimize_result(\n",
          "output_type": "stream"
        },
        {
          "execution_count": 14,
          "output_type": "execute_result",
          "data": {
            "text/plain": "DecisionTreeClassifier()",
            "text/html": "<style>#sk-container-id-1 {color: black;background-color: white;}#sk-container-id-1 pre{padding: 0;}#sk-container-id-1 div.sk-toggleable {background-color: white;}#sk-container-id-1 label.sk-toggleable__label {cursor: pointer;display: block;width: 100%;margin-bottom: 0;padding: 0.3em;box-sizing: border-box;text-align: center;}#sk-container-id-1 label.sk-toggleable__label-arrow:before {content: \"▸\";float: left;margin-right: 0.25em;color: #696969;}#sk-container-id-1 label.sk-toggleable__label-arrow:hover:before {color: black;}#sk-container-id-1 div.sk-estimator:hover label.sk-toggleable__label-arrow:before {color: black;}#sk-container-id-1 div.sk-toggleable__content {max-height: 0;max-width: 0;overflow: hidden;text-align: left;background-color: #f0f8ff;}#sk-container-id-1 div.sk-toggleable__content pre {margin: 0.2em;color: black;border-radius: 0.25em;background-color: #f0f8ff;}#sk-container-id-1 input.sk-toggleable__control:checked~div.sk-toggleable__content {max-height: 200px;max-width: 100%;overflow: auto;}#sk-container-id-1 input.sk-toggleable__control:checked~label.sk-toggleable__label-arrow:before {content: \"▾\";}#sk-container-id-1 div.sk-estimator input.sk-toggleable__control:checked~label.sk-toggleable__label {background-color: #d4ebff;}#sk-container-id-1 div.sk-label input.sk-toggleable__control:checked~label.sk-toggleable__label {background-color: #d4ebff;}#sk-container-id-1 input.sk-hidden--visually {border: 0;clip: rect(1px 1px 1px 1px);clip: rect(1px, 1px, 1px, 1px);height: 1px;margin: -1px;overflow: hidden;padding: 0;position: absolute;width: 1px;}#sk-container-id-1 div.sk-estimator {font-family: monospace;background-color: #f0f8ff;border: 1px dotted black;border-radius: 0.25em;box-sizing: border-box;margin-bottom: 0.5em;}#sk-container-id-1 div.sk-estimator:hover {background-color: #d4ebff;}#sk-container-id-1 div.sk-parallel-item::after {content: \"\";width: 100%;border-bottom: 1px solid gray;flex-grow: 1;}#sk-container-id-1 div.sk-label:hover label.sk-toggleable__label {background-color: #d4ebff;}#sk-container-id-1 div.sk-serial::before {content: \"\";position: absolute;border-left: 1px solid gray;box-sizing: border-box;top: 0;bottom: 0;left: 50%;z-index: 0;}#sk-container-id-1 div.sk-serial {display: flex;flex-direction: column;align-items: center;background-color: white;padding-right: 0.2em;padding-left: 0.2em;position: relative;}#sk-container-id-1 div.sk-item {position: relative;z-index: 1;}#sk-container-id-1 div.sk-parallel {display: flex;align-items: stretch;justify-content: center;background-color: white;position: relative;}#sk-container-id-1 div.sk-item::before, #sk-container-id-1 div.sk-parallel-item::before {content: \"\";position: absolute;border-left: 1px solid gray;box-sizing: border-box;top: 0;bottom: 0;left: 50%;z-index: -1;}#sk-container-id-1 div.sk-parallel-item {display: flex;flex-direction: column;z-index: 1;position: relative;background-color: white;}#sk-container-id-1 div.sk-parallel-item:first-child::after {align-self: flex-end;width: 50%;}#sk-container-id-1 div.sk-parallel-item:last-child::after {align-self: flex-start;width: 50%;}#sk-container-id-1 div.sk-parallel-item:only-child::after {width: 0;}#sk-container-id-1 div.sk-dashed-wrapped {border: 1px dashed gray;margin: 0 0.4em 0.5em 0.4em;box-sizing: border-box;padding-bottom: 0.4em;background-color: white;}#sk-container-id-1 div.sk-label label {font-family: monospace;font-weight: bold;display: inline-block;line-height: 1.2em;}#sk-container-id-1 div.sk-label-container {text-align: center;}#sk-container-id-1 div.sk-container {/* jupyter's `normalize.less` sets `[hidden] { display: none; }` but bootstrap.min.css set `[hidden] { display: none !important; }` so we also need the `!important` here to be able to override the default hidden behavior on the sphinx rendered scikit-learn.org. See: https://github.com/scikit-learn/scikit-learn/issues/21755 */display: inline-block !important;position: relative;}#sk-container-id-1 div.sk-text-repr-fallback {display: none;}</style><div id=\"sk-container-id-1\" class=\"sk-top-container\"><div class=\"sk-text-repr-fallback\"><pre>DecisionTreeClassifier()</pre><b>In a Jupyter environment, please rerun this cell to show the HTML representation or trust the notebook. <br />On GitHub, the HTML representation is unable to render, please try loading this page with nbviewer.org.</b></div><div class=\"sk-container\" hidden><div class=\"sk-item\"><div class=\"sk-estimator sk-toggleable\"><input class=\"sk-toggleable__control sk-hidden--visually\" id=\"sk-estimator-id-1\" type=\"checkbox\" checked><label for=\"sk-estimator-id-1\" class=\"sk-toggleable__label sk-toggleable__label-arrow\">DecisionTreeClassifier</label><div class=\"sk-toggleable__content\"><pre>DecisionTreeClassifier()</pre></div></div></div></div></div>"
          },
          "metadata": {}
        }
      ],
      "execution_count": null
    },
    {
      "cell_type": "code",
      "source": [
        "y_pred1 = clf1.predict(X_test)\n",
        "y_pred2 = clf2.predict(X_test)"
      ],
      "metadata": {
        "execution": {
          "iopub.status.busy": "2025-04-17T12:17:37.382773Z",
          "iopub.execute_input": "2025-04-17T12:17:37.38351Z",
          "iopub.status.idle": "2025-04-17T12:17:37.398246Z",
          "shell.execute_reply.started": "2025-04-17T12:17:37.383477Z",
          "shell.execute_reply": "2025-04-17T12:17:37.396933Z"
        },
        "trusted": true,
        "id": "UOvZ-lMW4C6W"
      },
      "outputs": [],
      "execution_count": null
    },
    {
      "cell_type": "code",
      "source": [
        "from sklearn.metrics import accuracy_score,confusion_matrix\n",
        "print(\"Accuracy of Logistic Regression\",accuracy_score(y_test,y_pred1))\n",
        "print(\"Accuracy of Decision Trees\",accuracy_score(y_test,y_pred2))"
      ],
      "metadata": {
        "execution": {
          "iopub.status.busy": "2025-04-17T12:17:37.400158Z",
          "iopub.execute_input": "2025-04-17T12:17:37.400865Z",
          "iopub.status.idle": "2025-04-17T12:17:37.427377Z",
          "shell.execute_reply.started": "2025-04-17T12:17:37.400834Z",
          "shell.execute_reply": "2025-04-17T12:17:37.426141Z"
        },
        "trusted": true,
        "id": "iZXW6rBv4C6W",
        "outputId": "7f5d1ab5-39e9-4e79-bb0c-e6a21dc5c3e4"
      },
      "outputs": [
        {
          "name": "stdout",
          "text": "Accuracy of Logistic Regression 1.0\nAccuracy of Decision Trees 0.9666666666666667\n",
          "output_type": "stream"
        }
      ],
      "execution_count": null
    },
    {
      "cell_type": "code",
      "source": [
        "print(\"Logistic Regression Confusion Matrix\\n\")\n",
        "pd.DataFrame(confusion_matrix(y_test,y_pred1),columns=list(range(0,3)))"
      ],
      "metadata": {
        "execution": {
          "iopub.status.busy": "2025-04-17T12:17:37.430983Z",
          "iopub.execute_input": "2025-04-17T12:17:37.432095Z",
          "iopub.status.idle": "2025-04-17T12:17:37.460709Z",
          "shell.execute_reply.started": "2025-04-17T12:17:37.432038Z",
          "shell.execute_reply": "2025-04-17T12:17:37.459568Z"
        },
        "trusted": true,
        "id": "OQ9yt2V64C6X",
        "outputId": "731385d7-5216-47ff-d40b-7c26c3a69c54"
      },
      "outputs": [
        {
          "name": "stdout",
          "text": "Logistic Regression Confusion Matrix\n\n",
          "output_type": "stream"
        },
        {
          "execution_count": 17,
          "output_type": "execute_result",
          "data": {
            "text/plain": "    0   1  2\n0  11   0  0\n1   0  13  0\n2   0   0  6",
            "text/html": "<div>\n<style scoped>\n    .dataframe tbody tr th:only-of-type {\n        vertical-align: middle;\n    }\n\n    .dataframe tbody tr th {\n        vertical-align: top;\n    }\n\n    .dataframe thead th {\n        text-align: right;\n    }\n</style>\n<table border=\"1\" class=\"dataframe\">\n  <thead>\n    <tr style=\"text-align: right;\">\n      <th></th>\n      <th>0</th>\n      <th>1</th>\n      <th>2</th>\n    </tr>\n  </thead>\n  <tbody>\n    <tr>\n      <th>0</th>\n      <td>11</td>\n      <td>0</td>\n      <td>0</td>\n    </tr>\n    <tr>\n      <th>1</th>\n      <td>0</td>\n      <td>13</td>\n      <td>0</td>\n    </tr>\n    <tr>\n      <th>2</th>\n      <td>0</td>\n      <td>0</td>\n      <td>6</td>\n    </tr>\n  </tbody>\n</table>\n</div>"
          },
          "metadata": {}
        }
      ],
      "execution_count": null
    },
    {
      "cell_type": "code",
      "source": [
        "print(\"Decision Tree Confusion Matrix\\n\")\n",
        "pd.DataFrame(confusion_matrix(y_test,y_pred2),columns=list(range(0,3)))"
      ],
      "metadata": {
        "execution": {
          "iopub.status.busy": "2025-04-17T12:17:37.463311Z",
          "iopub.execute_input": "2025-04-17T12:17:37.46365Z",
          "iopub.status.idle": "2025-04-17T12:17:37.484293Z",
          "shell.execute_reply.started": "2025-04-17T12:17:37.463624Z",
          "shell.execute_reply": "2025-04-17T12:17:37.483049Z"
        },
        "trusted": true,
        "id": "ylqV0jSM4C6Y",
        "outputId": "645d4e7b-12e6-4ac4-cfb9-d0c25d60aabb"
      },
      "outputs": [
        {
          "name": "stdout",
          "text": "Decision Tree Confusion Matrix\n\n",
          "output_type": "stream"
        },
        {
          "execution_count": 18,
          "output_type": "execute_result",
          "data": {
            "text/plain": "    0   1  2\n0  11   0  0\n1   0  12  1\n2   0   0  6",
            "text/html": "<div>\n<style scoped>\n    .dataframe tbody tr th:only-of-type {\n        vertical-align: middle;\n    }\n\n    .dataframe tbody tr th {\n        vertical-align: top;\n    }\n\n    .dataframe thead th {\n        text-align: right;\n    }\n</style>\n<table border=\"1\" class=\"dataframe\">\n  <thead>\n    <tr style=\"text-align: right;\">\n      <th></th>\n      <th>0</th>\n      <th>1</th>\n      <th>2</th>\n    </tr>\n  </thead>\n  <tbody>\n    <tr>\n      <th>0</th>\n      <td>11</td>\n      <td>0</td>\n      <td>0</td>\n    </tr>\n    <tr>\n      <th>1</th>\n      <td>0</td>\n      <td>12</td>\n      <td>1</td>\n    </tr>\n    <tr>\n      <th>2</th>\n      <td>0</td>\n      <td>0</td>\n      <td>6</td>\n    </tr>\n  </tbody>\n</table>\n</div>"
          },
          "metadata": {}
        }
      ],
      "execution_count": null
    },
    {
      "cell_type": "code",
      "source": [
        "result = pd.DataFrame()\n",
        "result['Actual Label'] = y_test\n",
        "result['Logistic Regression Prediction'] = y_pred1\n",
        "result['Decision Tree Prediction'] = y_pred2\n",
        "result.sample(10)"
      ],
      "metadata": {
        "execution": {
          "iopub.status.busy": "2025-04-17T12:17:37.485324Z",
          "iopub.execute_input": "2025-04-17T12:17:37.485697Z",
          "iopub.status.idle": "2025-04-17T12:17:37.508332Z",
          "shell.execute_reply.started": "2025-04-17T12:17:37.485665Z",
          "shell.execute_reply": "2025-04-17T12:17:37.507395Z"
        },
        "trusted": true,
        "id": "4mjUT13_4C6Z",
        "outputId": "bf3c0a9b-a030-4718-e1d5-95f3449bda08"
      },
      "outputs": [
        {
          "execution_count": 19,
          "output_type": "execute_result",
          "data": {
            "text/plain": "     Actual Label  Logistic Regression Prediction  Decision Tree Prediction\n94              1                               1                         1\n44              0                               0                         0\n40              0                               0                         0\n84              1                               1                         1\n35              0                               0                         0\n125             2                               2                         2\n102             2                               2                         2\n141             2                               2                         2\n92              1                               1                         1\n16              0                               0                         0",
            "text/html": "<div>\n<style scoped>\n    .dataframe tbody tr th:only-of-type {\n        vertical-align: middle;\n    }\n\n    .dataframe tbody tr th {\n        vertical-align: top;\n    }\n\n    .dataframe thead th {\n        text-align: right;\n    }\n</style>\n<table border=\"1\" class=\"dataframe\">\n  <thead>\n    <tr style=\"text-align: right;\">\n      <th></th>\n      <th>Actual Label</th>\n      <th>Logistic Regression Prediction</th>\n      <th>Decision Tree Prediction</th>\n    </tr>\n  </thead>\n  <tbody>\n    <tr>\n      <th>94</th>\n      <td>1</td>\n      <td>1</td>\n      <td>1</td>\n    </tr>\n    <tr>\n      <th>44</th>\n      <td>0</td>\n      <td>0</td>\n      <td>0</td>\n    </tr>\n    <tr>\n      <th>40</th>\n      <td>0</td>\n      <td>0</td>\n      <td>0</td>\n    </tr>\n    <tr>\n      <th>84</th>\n      <td>1</td>\n      <td>1</td>\n      <td>1</td>\n    </tr>\n    <tr>\n      <th>35</th>\n      <td>0</td>\n      <td>0</td>\n      <td>0</td>\n    </tr>\n    <tr>\n      <th>125</th>\n      <td>2</td>\n      <td>2</td>\n      <td>2</td>\n    </tr>\n    <tr>\n      <th>102</th>\n      <td>2</td>\n      <td>2</td>\n      <td>2</td>\n    </tr>\n    <tr>\n      <th>141</th>\n      <td>2</td>\n      <td>2</td>\n      <td>2</td>\n    </tr>\n    <tr>\n      <th>92</th>\n      <td>1</td>\n      <td>1</td>\n      <td>1</td>\n    </tr>\n    <tr>\n      <th>16</th>\n      <td>0</td>\n      <td>0</td>\n      <td>0</td>\n    </tr>\n  </tbody>\n</table>\n</div>"
          },
          "metadata": {}
        }
      ],
      "execution_count": null
    },
    {
      "cell_type": "code",
      "source": [
        "from sklearn.metrics import precision_score,recall_score\n",
        "precision_score(y_test,y_pred1,average=None)"
      ],
      "metadata": {
        "execution": {
          "iopub.status.busy": "2025-04-17T12:17:37.509529Z",
          "iopub.execute_input": "2025-04-17T12:17:37.509812Z",
          "iopub.status.idle": "2025-04-17T12:17:37.533426Z",
          "shell.execute_reply.started": "2025-04-17T12:17:37.509789Z",
          "shell.execute_reply": "2025-04-17T12:17:37.53214Z"
        },
        "trusted": true,
        "id": "L9Ci2vba4C6Z",
        "outputId": "6f80a761-b226-416d-f44b-1f9f5511f355"
      },
      "outputs": [
        {
          "execution_count": 20,
          "output_type": "execute_result",
          "data": {
            "text/plain": "array([1., 1., 1.])"
          },
          "metadata": {}
        }
      ],
      "execution_count": null
    },
    {
      "cell_type": "code",
      "source": [
        "recall_score(y_test,y_pred1,average=None)"
      ],
      "metadata": {
        "execution": {
          "iopub.status.busy": "2025-04-17T12:17:37.534633Z",
          "iopub.execute_input": "2025-04-17T12:17:37.53501Z",
          "iopub.status.idle": "2025-04-17T12:17:37.556603Z",
          "shell.execute_reply.started": "2025-04-17T12:17:37.534976Z",
          "shell.execute_reply": "2025-04-17T12:17:37.555415Z"
        },
        "trusted": true,
        "id": "JViFwVNP4C6a",
        "outputId": "813c6885-11b8-4a73-9410-d8df0c9c216e"
      },
      "outputs": [
        {
          "execution_count": 21,
          "output_type": "execute_result",
          "data": {
            "text/plain": "array([1., 1., 1.])"
          },
          "metadata": {}
        }
      ],
      "execution_count": null
    },
    {
      "cell_type": "code",
      "source": [],
      "metadata": {
        "trusted": true,
        "id": "0MHp7RO-4C6b"
      },
      "outputs": [],
      "execution_count": null
    }
  ]
}